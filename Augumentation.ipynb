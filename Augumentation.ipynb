{
 "cells": [
  {
   "cell_type": "code",
   "execution_count": 1,
   "id": "5517d616-4237-444c-8d72-fd00972168cd",
   "metadata": {},
   "outputs": [],
   "source": [
    "import pandas as pd\n",
    "import numpy as np\n",
    "from googletrans import Translator\n",
    "from tqdm import tqdm\n",
    "import seaborn as sns\n",
    "\n",
    "df = pd.read_csv('preprocessed_data.csv').drop('Unnamed: 0', axis = 1)"
   ]
  },
  {
   "cell_type": "code",
   "execution_count": 2,
   "id": "2e39f830-86ad-43e0-9988-9e2f15141660",
   "metadata": {},
   "outputs": [
    {
     "data": {
      "text/plain": [
       "<Axes: xlabel='label', ylabel='Count'>"
      ]
     },
     "execution_count": 2,
     "metadata": {},
     "output_type": "execute_result"
    },
    {
     "data": {
      "image/png": "[encoded data removed]",
      "text/plain": [
       "<Figure size 640x480 with 1 Axes>"
      ]
     },
     "metadata": {},
     "output_type": "display_data"
    }
   ],
   "source": [
    "sns.histplot(df['label'], bins = 10)"
   ]
  },
  {
   "cell_type": "markdown",
   "id": "43c24f8a-7909-49c7-bab4-44705bbd4b50",
   "metadata": {},
   "source": [
    "## 데이터의 label 수가 일정하지 않음.\n",
    "## sentence_1, sentence_2의 순서를 바꾸는 증강을 통해 label 수의 분포를 대강적으로 맞추도록 조정."
   ]
  },
  {
   "cell_type": "code",
   "execution_count": 3,
   "id": "d3374364-4606-4aa0-be62-b24dde58ef5f",
   "metadata": {},
   "outputs": [],
   "source": [
    "def swap_sentence(df, target = 300):\n",
    "    aug_data = pd.DataFrame({'id' : [], 'source' : [], 'sentence_1' : [], 'sentence_2' : [],\n",
    "                             'label' : [], 'binary-label' : []})\n",
    "    for i in np.arange(0.0,5.2,0.2):\n",
    "        target_df = df[df['label'] == round(i,2)]\n",
    "        cnt = len(target_df)\n",
    "        if target - cnt < 0:\n",
    "            pass\n",
    "        else:\n",
    "            samples = target_df.sample(min(cnt, target - cnt))\n",
    "            aug = pd.DataFrame({'id' : samples['id'], 'source' : samples['source'],\n",
    "                                'sentence_1' : samples['sentence_2'], \n",
    "                                'sentence_2' : samples['sentence_1'],\n",
    "                                'label' : samples['label'], 'binary-label' : samples['binary-label']})\n",
    "            aug_data = pd.concat([aug_data, aug])\n",
    "    return aug_data"
   ]
  },
  {
   "cell_type": "code",
   "execution_count": 4,
   "id": "3c329279-7cd3-4bc2-91a5-becf6bd3b46b",
   "metadata": {
    "scrolled": true
   },
   "outputs": [
    {
     "name": "stdout",
     "output_type": "stream",
     "text": [
      "label 0.0 : 2119개 > 2119개\n",
      "label 0.2 : 345개 > 345개\n",
      "label 0.4 : 482개 > 482개\n",
      "label 0.6 : 372개 > 372개\n",
      "label 0.8 : 358개 > 358개\n",
      "label 1.0 : 342개 > 342개\n",
      "label 1.2 : 332개 > 332개\n",
      "label 1.4 : 254개 > 300개\n",
      "label 1.6 : 172개 > 300개\n",
      "label 1.8 : 246개 > 300개\n",
      "label 2.0 : 236개 > 300개\n",
      "label 2.2 : 190개 > 300개\n",
      "label 2.4 : 187개 > 300개\n",
      "label 2.6 : 235개 > 300개\n",
      "label 2.8 : 267개 > 300개\n",
      "label 3.0 : 283개 > 300개\n",
      "label 3.2 : 270개 > 300개\n",
      "label 3.4 : 279개 > 300개\n",
      "label 3.6 : 400개 > 400개\n",
      "label 3.8 : 452개 > 452개\n",
      "label 4.0 : 516개 > 516개\n",
      "label 4.2 : 426개 > 426개\n",
      "label 4.4 : 209개 > 300개\n",
      "label 4.6 : 81개 > 162개\n",
      "label 4.8 : 59개 > 118개\n",
      "label 5.0 : 91개 > 182개\n"
     ]
    }
   ],
   "source": [
    "aug_data = pd.concat([df, swap_sentence(df, target = 300)])\n",
    "for i in np.arange(0.0,5.2,0.2):\n",
    "    print(f'label {round(i,2)} : {len(df[df[\"label\"] == round(i,2)])}개 > {len(aug_data[aug_data[\"label\"] == round(i,2)])}개')"
   ]
  },
  {
   "cell_type": "markdown",
   "id": "0d11699b-72fa-44f3-a7a1-cb8868c09e98",
   "metadata": {},
   "source": [
    "## sentence_1과 sentence_2의 순서를 바꿔 데이터를 대강적으로 증강.\n",
    "## label의 수가 많다면 sentence_1과 sentence_2를 바꾸지 않고, label의 수가 적다면 문장을 바꿔 증강하였음."
   ]
  },
  {
   "cell_type": "code",
   "execution_count": 14,
   "id": "28884b73-69c3-4a29-80ea-46aeead7203d",
   "metadata": {},
   "outputs": [],
   "source": [
    "def back_translate(text, src_lang='ko', intermediate_lang='en'):\n",
    "    translator = Translator()\n",
    "    # 원본 텍스트를 intermediate_lang으로 번역\n",
    "    translated_text = translator.translate(text, src=src_lang, dest=intermediate_lang).text\n",
    "    # intermediate_lang에서 원본 src_lang으로 번역\n",
    "    back_translated_text = translator.translate(translated_text, src=intermediate_lang, dest=src_lang).text\n",
    "    return back_translated_text"
   ]
  },
  {
   "cell_type": "code",
   "execution_count": 16,
   "id": "4add35ef-d935-4482-a49d-cd27db4c9d42",
   "metadata": {},
   "outputs": [
    {
     "name": "stdout",
     "output_type": "stream",
     "text": [
      "원본 문장 :  다음 주에 진행할 마스터 클래스 안내하며 나갈 정보입니다.\n",
      "역번역 문장 :  이것은 다음 주 마스터 클래스에서 도출 한 정보입니다.\n"
     ]
    }
   ],
   "source": [
    "intermediate_lang = 'ja'\n",
    "sentence = aug_data.sample(1)['sentence_1'].item()\n",
    "print('원본 문장 : ',sentence)\n",
    "sentence = back_translate(sentence, intermediate_lang = intermediate_lang)\n",
    "print('역번역 문장 : ',sentence)\n"
   ]
  },
  {
   "cell_type": "markdown",
   "id": "5211292a-bcd6-4a7c-9e36-b503f75f2319",
   "metadata": {},
   "source": [
    "## 구글 번역 라이브러리를 통해 start 언어에서 target 언어로, target 언어에서 다시 start 언어로 번역한다.\n",
    "## 이러한 과정을 통해 원본 문장과 의미는 같지만 다르게 표현된 문장을 얻을 수 있다.\n"
   ]
  },
  {
   "cell_type": "code",
   "execution_count": 7,
   "id": "c6098a1b-8661-4f0d-8748-261fd2177a2b",
   "metadata": {},
   "outputs": [],
   "source": [
    "import os\n",
    "import sys\n",
    "current_dir = os.getcwd()\n",
    "k_tacc_path = os.path.join(current_dir, 'K-TACC-main')\n",
    "sys.path.append(k_tacc_path)\n",
    "\n",
    "from BERT_augmentation import BERT_Augmentation\n",
    "from adverb_augmentation import AdverbAugmentation\n",
    "\n",
    "import transformers\n",
    "\n",
    "\n",
    "BERT_aug = BERT_Augmentation()\n",
    "random_masking_insertion = BERT_aug.random_masking_insertion\n",
    "adverb_aug = AdverbAugmentation()\n",
    "adverb_gloss_replacement = adverb_aug.adverb_gloss_replacement\n",
    "ratio = 0"
   ]
  },
  {
   "cell_type": "code",
   "execution_count": 26,
   "id": "10342fe5-581b-425a-a6e3-4345d632d194",
   "metadata": {},
   "outputs": [
    {
     "name": "stdout",
     "output_type": "stream",
     "text": [
      "원본 문장 :  다시 했으면 좋겠어요.\n",
      "--random insertion--\n",
      "증강 문장 : 다시 했으면 좋겠어요. ratio =  0.0\n",
      "증강 문장 : 다시 다시 했으면 좋겠어요. ratio =  0.2\n",
      "증강 문장 : 이제 다시 했으면 좋겠어요. ratio =  0.4\n",
      "증강 문장 : 다시 했으면 그게 참 좋겠어요. ratio =  0.6\n",
      "증강 문장 : 다시 다시 했으면 참 좋겠어요. ratio =  0.8\n",
      "--Adverb insertion--\n",
      "증강 문장 : 이전 상태나 행동이 그쳤다가 이어지면서 새로이 또 했으면 좋겠어요.\n"
     ]
    }
   ],
   "source": [
    "\n",
    "sentence = aug_data.sample(1)['sentence_1'].item()\n",
    "print('원본 문장 : ', sentence)\n",
    "print('--random insertion--')\n",
    "for i in np.arange(0,1,0.2):\n",
    "    print('증강 문장 :', random_masking_insertion(sentence, ratio = i),'ratio = ', round(i,2))\n",
    "print('--Adverb insertion--')\n",
    "print('증강 문장 :', adverb_gloss_replacement(sentence))"
   ]
  },
  {
   "cell_type": "markdown",
   "id": "55ed339c-8daf-4d7f-9db4-915d6249e9b6",
   "metadata": {},
   "source": [
    "## K-TACC-main의 라이브러리를 활용한 BERT 기반 증강 모델을 활용하였다.\n",
    "## 특히, 성능 평가 중 성능이 가장 높았던 Random Insertion과 Adverb replacement를 채용하였다.\n",
    "## Random Insertion은 ratio를 통해 그 정도를 조절할 수 있으며, ratio가 높아질 수록 문맥에 맞는 더 많은 단어가 추가됨을 알 수 있다.\n",
    "\n",
    "#### 자세한 정보는  https://github.com/kyle-bong/K-TACC/tree/main 에서 확인할 수 있습니다."
   ]
  }
 ],
 "metadata": {
  "kernelspec": {
   "display_name": "Python 3 (ipykernel)",
   "language": "python",
   "name": "python3"
  },
  "language_info": {
   "codemirror_mode": {
    "name": "ipython",
    "version": 3
   },
   "file_extension": ".py",
   "mimetype": "text/x-python",
   "name": "python",
   "nbconvert_exporter": "python",
   "pygments_lexer": "ipython3",
   "version": "3.9.19"
  }
 },
 "nbformat": 4,
 "nbformat_minor": 5
}
