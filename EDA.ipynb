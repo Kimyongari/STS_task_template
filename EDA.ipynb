{
 "cells": [
  {
   "cell_type": "code",
   "execution_count": 67,
   "id": "4da18d90-610f-4f39-bfb2-2029cca7c2b5",
   "metadata": {},
   "outputs": [],
   "source": [
    "import os\n",
    "import pandas as pd\n",
    "from glob import glob\n",
    "import matplotlib.pyplot as plt\n",
    "import seaborn as sns\n",
    "import numpy as np\n",
    "import transformers\n"
   ]
  },
  {
   "cell_type": "code",
   "execution_count": 69,
   "id": "e86558f9-40ec-440b-bd79-5b6ed8d8d3dc",
   "metadata": {},
   "outputs": [
    {
     "data": {
      "application/vnd.jupyter.widget-view+json": {
       "model_id": "6b497d7893f64ce187e06a37d0bda7b4",
       "version_major": 2,
       "version_minor": 0
      },
      "text/plain": [
       "tokenizer_config.json:   0%|          | 0.00/289 [00:00<?, ?B/s]"
      ]
     },
     "metadata": {},
     "output_type": "display_data"
    },
    {
     "name": "stderr",
     "output_type": "stream",
     "text": [
      "/opt/homebrew/anaconda3/envs/yongari/lib/python3.9/site-packages/huggingface_hub/file_download.py:1132: FutureWarning: `resume_download` is deprecated and will be removed in version 1.0.0. Downloads always resume when possible. If you want to force a new download, use `force_download=True`.\n",
      "  warnings.warn(\n"
     ]
    },
    {
     "data": {
      "application/vnd.jupyter.widget-view+json": {
       "model_id": "5081f6a99b5045cd83a267c331f8884a",
       "version_major": 2,
       "version_minor": 0
      },
      "text/plain": [
       "config.json:   0%|          | 0.00/425 [00:00<?, ?B/s]"
      ]
     },
     "metadata": {},
     "output_type": "display_data"
    },
    {
     "data": {
      "application/vnd.jupyter.widget-view+json": {
       "model_id": "5b6641139d334a7f87b8005448497321",
       "version_major": 2,
       "version_minor": 0
      },
      "text/plain": [
       "vocab.txt:   0%|          | 0.00/248k [00:00<?, ?B/s]"
      ]
     },
     "metadata": {},
     "output_type": "display_data"
    },
    {
     "data": {
      "application/vnd.jupyter.widget-view+json": {
       "model_id": "252be3de19094c719033fe0e9f51a8ef",
       "version_major": 2,
       "version_minor": 0
      },
      "text/plain": [
       "tokenizer.json:   0%|          | 0.00/495k [00:00<?, ?B/s]"
      ]
     },
     "metadata": {},
     "output_type": "display_data"
    },
    {
     "data": {
      "application/vnd.jupyter.widget-view+json": {
       "model_id": "52b1137f33e24423947d2bacd296ba77",
       "version_major": 2,
       "version_minor": 0
      },
      "text/plain": [
       "special_tokens_map.json:   0%|          | 0.00/125 [00:00<?, ?B/s]"
      ]
     },
     "metadata": {},
     "output_type": "display_data"
    }
   ],
   "source": [
    "df = pd.read_csv('/Users/kim-yongjun/Documents/부스트캠프 AI Tech 7기/5.5. NLP 기초 프로젝트/nlp_project/train.csv')\n",
    "tokenizer = transformers.AutoTokenizer.from_pretrained('klue/bert-base')"
   ]
  },
  {
   "cell_type": "code",
   "execution_count": 61,
   "id": "dd88550b-0369-4b44-aa86-4fe7b17f7736",
   "metadata": {},
   "outputs": [
    {
     "data": {
      "image/png": "[encoded data removed]",
      "text/plain": [
       "<Figure size 800x600 with 1 Axes>"
      ]
     },
     "metadata": {},
     "output_type": "display_data"
    }
   ],
   "source": [
    "cnt, bins = np.histogram(df['label'], bins = 10)\n",
    "max_bin_index = np.argmax(cnt)\n",
    "min_bin_index = np.argmin(cnt)\n",
    "colors = ['skyblue' for _ in range(10)]\n",
    "colors[max_bin_index] = 'red'\n",
    "colors[min_bin_index] = 'green'\n",
    "plt.figure(figsize=(8, 6))\n",
    "for i in range(10):\n",
    "    plt.bar(bins[i], cnt[i], width=(bins[1] - bins[0]), color=colors[i], edgecolor='black')\n"
   ]
  },
  {
   "cell_type": "markdown",
   "id": "9573d615-de66-4086-b925-a660955bbdba",
   "metadata": {},
   "source": [
    "## 단어의 라벨 분포를 살펴보니, label = 0인 데이터가 상당히 많음을 알 수 있다.\n",
    "## 모델이 잘 학습하기 위해서는 label의 편향이 적을수록 좋으므로 나중에 label의 분포를 고루 퍼지도록 해야한다"
   ]
  },
  {
   "cell_type": "code",
   "execution_count": 152,
   "id": "b8a26982-9c30-447f-9786-7aa64bbdf138",
   "metadata": {},
   "outputs": [
    {
     "name": "stdout",
     "output_type": "stream",
     "text": [
      "발견된 <PERSON> 횟수 : 138\n",
      "1.4801 % 의 데이터에 <PERSON> 이 존재합니다.\n",
      "[CLS] < PER ##S ##ON > [SEP] "
     ]
    }
   ],
   "source": [
    "person = df[df['sentence_1'].str.contains('<PERSON>')|df['sentence_2'].str.contains('<PERSON>')]\n",
    "person[['sentence_1', 'sentence_2']]\n",
    "print('발견된 <PERSON> 횟수 :', len(person))\n",
    "print(round(len(person) / len(df) * 100, 4, ), '% 의 데이터에 <PERSON> 이 존재합니다.')\n",
    "ids = tokenizer('<PERSON>')['input_ids']\n",
    "for id in ids:\n",
    "    print(tokenizer.decode(id), end = ' ')"
   ]
  },
  {
   "cell_type": "markdown",
   "id": "378ed667-a589-49ac-9a62-3462788ca302",
   "metadata": {},
   "source": [
    "## 데이터를 살펴보니, sentence_1, sentence_2 컬럼의 문장들에 'PERSON'이라는 단어가 꽤 많이 등장함을 알 수 있었다.\n",
    "## 모델은 Bert-base기준 <PERSON>이라는 단어는 하나의 토큰으로 분류돼 있지 않다.\n",
    "## 이는 모델의 학습에 악영향을 끼칠 수 있음으로 추후 조치가 필요하다."
   ]
  },
  {
   "cell_type": "code",
   "execution_count": 114,
   "id": "c3830881-f4e5-432b-b305-d0a1edc01d65",
   "metadata": {},
   "outputs": [
    {
     "name": "stdout",
     "output_type": "stream",
     "text": [
      "같은 단어가 반복되는 문장 수 : 124\n"
     ]
    },
    {
     "data": {
      "text/html": [
       "<div>\n",
       "<style scoped>\n",
       "    .dataframe tbody tr th:only-of-type {\n",
       "        vertical-align: middle;\n",
       "    }\n",
       "\n",
       "    .dataframe tbody tr th {\n",
       "        vertical-align: top;\n",
       "    }\n",
       "\n",
       "    .dataframe thead th {\n",
       "        text-align: right;\n",
       "    }\n",
       "</style>\n",
       "<table border=\"1\" class=\"dataframe\">\n",
       "  <thead>\n",
       "    <tr style=\"text-align: right;\">\n",
       "      <th></th>\n",
       "      <th>sentence_1</th>\n",
       "      <th>sentence_2</th>\n",
       "    </tr>\n",
       "  </thead>\n",
       "  <tbody>\n",
       "    <tr>\n",
       "      <th>4576</th>\n",
       "      <td>평창 올림픽 오뎅호떡 가격 논란,호떡 2개 5000원</td>\n",
       "      <td>이상호 2억원, 여자컬링 0원…경기단체 포상금 '천차만별' 이게 현실인가요?</td>\n",
       "    </tr>\n",
       "    <tr>\n",
       "      <th>7855</th>\n",
       "      <td>오마이!! 너무너무 축하드려요!!!</td>\n",
       "      <td>세상에!! 으어어어 세상에.. 너무너무 축하드려요!!!!</td>\n",
       "    </tr>\n",
       "    <tr>\n",
       "      <th>7182</th>\n",
       "      <td>ㅋㅋㅋ적당해보여욥!</td>\n",
       "      <td>하하하하하하하하하하하하하하하하하하하하하하하하하하하하하하하하하하</td>\n",
       "    </tr>\n",
       "    <tr>\n",
       "      <th>2619</th>\n",
       "      <td>재미없진않네요 하하하</td>\n",
       "      <td>너무 재미없었어요^-^</td>\n",
       "    </tr>\n",
       "    <tr>\n",
       "      <th>2598</th>\n",
       "      <td>오 영광의 소환…!</td>\n",
       "      <td>오마이! 어떠셨나요ㅠㅠㅠ</td>\n",
       "    </tr>\n",
       "    <tr>\n",
       "      <th>5738</th>\n",
       "      <td>푸하하하~ 코미디라는 장르에 아주 충실하군..</td>\n",
       "      <td>장르 코미디 아닌건 확실하다..</td>\n",
       "    </tr>\n",
       "    <tr>\n",
       "      <th>6149</th>\n",
       "      <td>연봉상위 1% 고고고!</td>\n",
       "      <td>우리 회사 고고고!</td>\n",
       "    </tr>\n",
       "    <tr>\n",
       "      <th>4528</th>\n",
       "      <td>나만 낚일 순 없지</td>\n",
       "      <td>나만당할순없지 낄낄낄</td>\n",
       "    </tr>\n",
       "    <tr>\n",
       "      <th>9011</th>\n",
       "      <td>어머머머 신기하고 웃기기도하고 그러는데…</td>\n",
       "      <td>늘 궁금하고 신기해 했던 ㅋㅋ</td>\n",
       "    </tr>\n",
       "    <tr>\n",
       "      <th>4394</th>\n",
       "      <td>너와나함께라면 우린 최고야</td>\n",
       "      <td>최고 최고 최고 최고 최고다 그냥</td>\n",
       "    </tr>\n",
       "    <tr>\n",
       "      <th>1503</th>\n",
       "      <td>우와 윈터원더랜드네요ㅠㅠㅠ</td>\n",
       "      <td>감동의 도가니ㅠㅠㅠ</td>\n",
       "    </tr>\n",
       "    <tr>\n",
       "      <th>1434</th>\n",
       "      <td>존나 재밋다..ㅋㅋ존나웃겨ㅋㅋㅋ</td>\n",
       "      <td>너무재밌어요..하하하하하하하하하하하하하하하하하하하하하하하하하하하하하하하하하하하하</td>\n",
       "    </tr>\n",
       "    <tr>\n",
       "      <th>3798</th>\n",
       "      <td>넘 후다닥 간거 같아 아쉽네여 ㅜㅜㅜ</td>\n",
       "      <td>너무 뒤처져서 아쉽네요.</td>\n",
       "    </tr>\n",
       "    <tr>\n",
       "      <th>1897</th>\n",
       "      <td>패션에는 전혀 일가견이 없습니다….</td>\n",
       "      <td>ㅜㅜㅜ 너무 귀여워요….진짜…</td>\n",
       "    </tr>\n",
       "    <tr>\n",
       "      <th>9292</th>\n",
       "      <td>히히힛히힛히히히힛힛</td>\n",
       "      <td>우히히히 완전 잼있어</td>\n",
       "    </tr>\n",
       "    <tr>\n",
       "      <th>1119</th>\n",
       "      <td>ㅋㅋ 뒤에 저도 나왔네요! ㅋㅋㅋ</td>\n",
       "      <td>ㅎㅎ 저도 뒤에 있어요! 하하하</td>\n",
       "    </tr>\n",
       "    <tr>\n",
       "      <th>4957</th>\n",
       "      <td>마지막이 축하로 끝날 수 있어 우리 회사다움 마무리였다!고 느꼈습니다~ ㅎㅎ</td>\n",
       "      <td>마지막은 이런 경험을 할 수 있는 우리 회사 업업업으로 마치며 사진을 촬영했는데....</td>\n",
       "    </tr>\n",
       "    <tr>\n",
       "      <th>6114</th>\n",
       "      <td>저도 그래서 킁킁킁 해봤는데요 ㅋㅋ</td>\n",
       "      <td>나도 그렇게 했어 ㅋㅋㅋㅋ</td>\n",
       "    </tr>\n",
       "    <tr>\n",
       "      <th>889</th>\n",
       "      <td>진짜진짜좋다 ㅌㅌㅌ</td>\n",
       "      <td>진짜 너무좋은 영화엿다</td>\n",
       "    </tr>\n",
       "    <tr>\n",
       "      <th>7748</th>\n",
       "      <td>작년에 올린 국민신문고(www.epeople.go.kr) 공개제안 심사를 고의적으로...</td>\n",
       "      <td>국민신문고(www.epeople.go.kr)가 작년에 게시한 공개안 심사를 고의로 ...</td>\n",
       "    </tr>\n",
       "  </tbody>\n",
       "</table>\n",
       "</div>"
      ],
      "text/plain": [
       "                                             sentence_1  \\\n",
       "4576                      평창 올림픽 오뎅호떡 가격 논란,호떡 2개 5000원   \n",
       "7855                                오마이!! 너무너무 축하드려요!!!   \n",
       "7182                                         ㅋㅋㅋ적당해보여욥!   \n",
       "2619                                        재미없진않네요 하하하   \n",
       "2598                                         오 영광의 소환…!   \n",
       "5738                          푸하하하~ 코미디라는 장르에 아주 충실하군..   \n",
       "6149                                       연봉상위 1% 고고고!   \n",
       "4528                                         나만 낚일 순 없지   \n",
       "9011                             어머머머 신기하고 웃기기도하고 그러는데…   \n",
       "4394                                     너와나함께라면 우린 최고야   \n",
       "1503                                     우와 윈터원더랜드네요ㅠㅠㅠ   \n",
       "1434                                  존나 재밋다..ㅋㅋ존나웃겨ㅋㅋㅋ   \n",
       "3798                               넘 후다닥 간거 같아 아쉽네여 ㅜㅜㅜ   \n",
       "1897                                패션에는 전혀 일가견이 없습니다….   \n",
       "9292                                         히히힛히힛히히히힛힛   \n",
       "1119                                 ㅋㅋ 뒤에 저도 나왔네요! ㅋㅋㅋ   \n",
       "4957         마지막이 축하로 끝날 수 있어 우리 회사다움 마무리였다!고 느꼈습니다~ ㅎㅎ   \n",
       "6114                                저도 그래서 킁킁킁 해봤는데요 ㅋㅋ   \n",
       "889                                          진짜진짜좋다 ㅌㅌㅌ   \n",
       "7748  작년에 올린 국민신문고(www.epeople.go.kr) 공개제안 심사를 고의적으로...   \n",
       "\n",
       "                                             sentence_2  \n",
       "4576         이상호 2억원, 여자컬링 0원…경기단체 포상금 '천차만별' 이게 현실인가요?  \n",
       "7855                    세상에!! 으어어어 세상에.. 너무너무 축하드려요!!!!  \n",
       "7182                 하하하하하하하하하하하하하하하하하하하하하하하하하하하하하하하하하하  \n",
       "2619                                       너무 재미없었어요^-^  \n",
       "2598                                      오마이! 어떠셨나요ㅠㅠㅠ  \n",
       "5738                                  장르 코미디 아닌건 확실하다..  \n",
       "6149                                         우리 회사 고고고!  \n",
       "4528                                        나만당할순없지 낄낄낄  \n",
       "9011                                   늘 궁금하고 신기해 했던 ㅋㅋ  \n",
       "4394                                 최고 최고 최고 최고 최고다 그냥  \n",
       "1503                                         감동의 도가니ㅠㅠㅠ  \n",
       "1434       너무재밌어요..하하하하하하하하하하하하하하하하하하하하하하하하하하하하하하하하하하하하  \n",
       "3798                                      너무 뒤처져서 아쉽네요.  \n",
       "1897                                   ㅜㅜㅜ 너무 귀여워요….진짜…  \n",
       "9292                                        우히히히 완전 잼있어  \n",
       "1119                                  ㅎㅎ 저도 뒤에 있어요! 하하하  \n",
       "4957   마지막은 이런 경험을 할 수 있는 우리 회사 업업업으로 마치며 사진을 촬영했는데....  \n",
       "6114                                     나도 그렇게 했어 ㅋㅋㅋㅋ  \n",
       "889                                        진짜 너무좋은 영화엿다  \n",
       "7748  국민신문고(www.epeople.go.kr)가 작년에 게시한 공개안 심사를 고의로 ...  "
      ]
     },
     "execution_count": 114,
     "metadata": {},
     "output_type": "execute_result"
    }
   ],
   "source": [
    "import re\n",
    "def has_repeated_words(sentence):\n",
    "    # 정규 표현식: 같은 단어가 3번 이상 연속으로 나오는지 확인\n",
    "    pattern = r'\\b(\\w+)\\b\\s+\\1\\s+\\1'\n",
    "    b1 = bool(re.search(pattern, sentence))\n",
    "    pattern = r'(\\w+)\\1\\1'\n",
    "    b2 = bool(re.search(pattern, sentence))\n",
    "    if b1 or b2 and not re.search(r'(ㅋㅋㅋ|ㅎㅎㅎ)', sentence):\n",
    "        return True\n",
    "    else:\n",
    "        return False\n",
    "    \n",
    "\n",
    "repeated_df = df[df['sentence_1'].apply(has_repeated_words) | df['sentence_2'].apply(has_repeated_words)]\n",
    "print('같은 단어가 반복되는 문장 수 :', len(repeated_df))\n",
    "repeated_df[['sentence_1','sentence_2']].sample(20)"
   ]
  },
  {
   "cell_type": "markdown",
   "id": "9bace834-2986-450d-8167-a6476b92634d",
   "metadata": {},
   "source": [
    "## 정규식을 통해 같은 글자가 세 번 이상 반복되는 문장들이 124개 가량 존재했음을 발견하였다. (ㅋㅋㅋ, ㅎㅎㅎ 는 제외)\n",
    "\n",
    "## 이는 마찬가지로 모델의 학습에 불필요한 요소이므로 3번 이상 반복되는 단어들의 처리가 필요함을 알 수 있다."
   ]
  },
  {
   "cell_type": "code",
   "execution_count": 142,
   "id": "afbfd3aa-3983-4425-a7e0-a669ee9852f9",
   "metadata": {},
   "outputs": [],
   "source": [
    "cnt1, bins = np.histogram(df['sentence_1'].apply(lambda x: len(max(x.split()))), bins = 20)\n",
    "cnt2, bins = np.histogram(df['sentence_2'].apply(lambda x: len(max(x.split()))), bins = 20)\n",
    "cnt = cnt1 + cnt2"
   ]
  },
  {
   "cell_type": "code",
   "execution_count": 232,
   "id": "5228c67a-c7c5-4e59-81dd-588b0f9c5725",
   "metadata": {},
   "outputs": [
    {
     "data": {
      "image/png": "[encoded data removed]",
      "text/plain": [
       "<Figure size 1000x500 with 2 Axes>"
      ]
     },
     "metadata": {},
     "output_type": "display_data"
    }
   ],
   "source": [
    "fig, axes = plt.subplots(1,2, figsize = (10,5))\n",
    "max_bin_index = np.argmax(cnt)\n",
    "min_bin_index = np.argmin(cnt)\n",
    "colors = ['skyblue' for _ in range(20)]\n",
    "colors[max_bin_index] = 'red'\n",
    "colors[min_bin_index] = 'green'\n",
    "for i in range(20):\n",
    "    axes[0].bar(bins[i], cnt[i], width = (bins[1] - bins[0]), color=colors[i], edgecolor='black')\n",
    "for i in range(5,20,1):\n",
    "    axes[1].bar(bins[i], cnt[i], width = (bins[1] - bins[0]), color=colors[i], edgecolor = 'black')\n"
   ]
  },
  {
   "cell_type": "markdown",
   "id": "5d9e47d6-7f18-4bff-9d84-0f27be62fd43",
   "metadata": {},
   "source": [
    "## 문장의 단어들을 띄어쓰기 기준으로 분리한 후 가장 긴 단어를 봤을 때, 대부분의 단어는 정상적으로 1~7정도의 단어 길이를 가지고 있었지만,\n",
    "## 몇몇의 단어들의 길이가 10 이상인 것을 발견하였다.\n",
    "## 이는 띄어쓰기가 제대로 이루어지지 않은 단어가 존재함을 암시한다."
   ]
  },
  {
   "cell_type": "code",
   "execution_count": 231,
   "id": "9697db70-4b8a-4096-a644-c9b87a6e77f0",
   "metadata": {},
   "outputs": [
    {
     "name": "stdout",
     "output_type": "stream",
     "text": [
      "다양한 [UNK] 토큰들 : ['넵', '뵐', '넵.', '앜ㅋㅋ', '쑈!', '뵌', '봣는데', '시킵시다.', '왤케', '네넵!', '넵!', '넵넵!!']\n",
      "[UNK] 토큰의 개수 ; 429\n",
      "전체 토큰들 중 [UNK] 토큰의 비율: 0.15460128005535376 %\n"
     ]
    }
   ],
   "source": [
    "from collections import defaultdict\n",
    "def find_unk_words(sentence):\n",
    "    unk_list = []\n",
    "    sentences = sentence.split()\n",
    "    for word in sentences:\n",
    "        if tokenizer.encode(word)[1] == tokenizer.unk_token_id:\n",
    "            unk_list.append(word)\n",
    "    return unk_list\n",
    "unk_in_sentence_1 = df['sentence_1'].apply(find_unk_words)\n",
    "unk_in_sentence_2 = df['sentence_2'].apply(find_unk_words)\n",
    "unk_in_sentence_1 = unk_in_sentence_1.value_counts()[1:]\n",
    "unk_in_sentence_2 = unk_in_sentence_2.value_counts()[1:]\n",
    "sentence_1_tokens_len = df['sentence_1'].apply(lambda x:len(tokenizer(x)['input_ids'])).sum()\n",
    "sentence_2_tokens_len = df['sentence_2'].apply(lambda x:len(tokenizer(x)['input_ids'])).sum()\n",
    "all_tokens_len = sentence_1_tokens_len + sentence_2_tokens_len\n",
    "d = defaultdict(int)\n",
    "for sentence in unk_in_sentence_1.index:\n",
    "    for word in sentence:\n",
    "        d[word] += 1\n",
    "for sentence in unk_in_sentence_2.index:\n",
    "    for word in sentence:\n",
    "        d[word] += 1\n",
    "\n",
    "d = dict(sorted(d.items(), key = lambda x:x[1],reverse = True))\n",
    "print('다양한 [UNK] 토큰들 :',list(d)[:12])\n",
    "print('[UNK] 토큰의 개수 ;', sum(d.values()))\n",
    "print('전체 토큰들 중 [UNK] 토큰의 비율:', 100 * sum(d.values()) / (all_tokens_len - sum(d.values())), '%')"
   ]
  },
  {
   "cell_type": "markdown",
   "id": "136febe7-22c4-485b-b2e5-5566d6a22b94",
   "metadata": {},
   "source": [
    "## 모든 문장에서 Tokenizer가 [UNK] 토큰으로 받아들인 단어들을 빈도수로 내림차순 정렬 한 뒤 12개만 본 결과이다.\n",
    "## Tokenizer가 잡지 못하는 단어들은 주로 넵, 넵! 등의 단어였으며, 문재인 > 문제인 등의 오타도 포함돼 있었다."
   ]
  },
  {
   "cell_type": "markdown",
   "id": "86da853a-a977-438c-8100-da04125fd6db",
   "metadata": {},
   "source": [
    "## 정리해보면, 본 데이터는\n",
    "### 1. Label의 균형을 맞춰야 함.\n",
    "### 2. 자주 등장하는 'PERSON' 단어를 Tokenizer마다 다르게 해석할 수 있으므로 하나의 Special Token으로 추가해야 함.\n",
    "### 3. 같은 단어들이 반복되는 문장들을 교정해야 함.\n",
    "### 4. 띄어쓰기 교정을 통해 올바른 문장으로 바꿔야 함.\n",
    "### 5. 오타로 인한 [UNK] Token 생성을 줄여야 함.\n",
    "### 의 처리들이 필요함을 알 수 있다."
   ]
  },
  {
   "cell_type": "code",
   "execution_count": null,
   "id": "95c58e66-7fa5-4d78-8a05-3fca7052ff25",
   "metadata": {},
   "outputs": [],
   "source": []
  }
 ],
 "metadata": {
  "kernelspec": {
   "display_name": "Python 3 (ipykernel)",
   "language": "python",
   "name": "python3"
  },
  "language_info": {
   "codemirror_mode": {
    "name": "ipython",
    "version": 3
   },
   "file_extension": ".py",
   "mimetype": "text/x-python",
   "name": "python",
   "nbconvert_exporter": "python",
   "pygments_lexer": "ipython3",
   "version": "3.9.19"
  }
 },
 "nbformat": 4,
 "nbformat_minor": 5
}
